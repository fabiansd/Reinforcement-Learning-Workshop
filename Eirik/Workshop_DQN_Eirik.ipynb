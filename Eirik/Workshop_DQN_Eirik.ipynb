{
 "cells": [
  {
   "cell_type": "markdown",
   "metadata": {},
   "source": [
    "# Introduction"
   ]
  },
  {
   "cell_type": "code",
   "execution_count": null,
   "metadata": {},
   "outputs": [],
   "source": [
    "Introduction to Deep Q-learning (DQN)\n",
    "\n",
    "Introduction to game we are going to play, e.g. visit website\n",
    "\n",
    "Complex simulation\n",
    "\n",
    "Keras etc."
   ]
  },
  {
   "cell_type": "code",
   "execution_count": null,
   "metadata": {},
   "outputs": [],
   "source": []
  },
  {
   "cell_type": "markdown",
   "metadata": {},
   "source": [
    "# Practical part"
   ]
  },
  {
   "cell_type": "code",
   "execution_count": 46,
   "metadata": {},
   "outputs": [],
   "source": [
    "import numpy as np\n",
    "import random\n",
    "from collections import deque, namedtuple\n",
    "import gym\n",
    "\n",
    "\"\"\"\n",
    "Build networks\n",
    "\"\"\"\n",
    "class Q_Networks:\n",
    "\n",
    "    def __init__(self, env):\n",
    "        pass\n",
    "    \n",
    "    def build_Q_network(env):\n",
    "        pass\n",
    "    \n",
    "    def train_q_network(action, state, done, reward, new_state):\n",
    "        pass\n",
    "    \n",
    "\n",
    "class ExperienceReplay:\n",
    "    \n",
    "    def __init__(self, buffer_size, batch_size):\n",
    "        self.buffer_size = buffer_size\n",
    "        self.batch_size = batch_size\n",
    "        self.experience_buffer = deque(maxlen=buffer_size)\n",
    "        self.experience = namedtuple(\"Experience\", field_names=[\"state\", \"action\", \"reward\", \"new_state\", \"done\"])\n",
    "    \n",
    "    def add_experience(self, state, action, reward, new_state, done):   \n",
    "        e = self.experience(state, action, reward, new_state, done)\n",
    "        self.experience_buffer.append(e)\n",
    "    \n",
    "    def get_batch(self):\n",
    "        if len(self.experience_buffer) < self.batch_size:\n",
    "            experiences =  self.experience_buffer\n",
    "        else:\n",
    "            experiences = random.sample(self.experience_buffer, self.batch_size)\n",
    "        \n",
    "        states = np.hstack([e.state for e in experiences if e is not None])\n",
    "        actions = np.hstack([e.action for e in experiences if e is not None])\n",
    "        rewards = np.hstack([e.reward for e in experiences if e is not None])\n",
    "        new_states = np.hstack([e.new_state for e in experiences if e is not None])\n",
    "        dones = np.hstack([e.done for e in experiences if e is not None])\n",
    "        \n",
    "        return (states, actions, rewards, new_states, dones)\n",
    "    \n",
    "\"\"\"\n",
    "Explaination of epsilon greedy and action selection\n",
    "\"\"\"\n",
    "    \n",
    "def select_action(state, epsilon):\n",
    "    \n",
    "    random_value = np.random.uniform()\n",
    "    if (epsilon > 0.01) and (epsilon > random_value):\n",
    "        action = env.action_space.sample()\n",
    "    else:\n",
    "        action =  np.argmax(Q[state,:])   \n",
    "    \n",
    "    return action\n",
    "        \n"
   ]
  },
  {
   "cell_type": "markdown",
   "metadata": {},
   "source": [
    "## Test box"
   ]
  },
  {
   "cell_type": "code",
   "execution_count": 47,
   "metadata": {},
   "outputs": [
    {
     "data": {
      "text/plain": [
       "(array([1, 0]), array([ 0, -1]), array([2., 0.]), array([1, 1]), array([0, 1]))"
      ]
     },
     "execution_count": 47,
     "metadata": {},
     "output_type": "execute_result"
    }
   ],
   "source": [
    "er = ExperienceReplay(10, 2)\n",
    "\n",
    "er.add_experience(1, 0, 2.0, 1, 0)\n",
    "er.add_experience(0, -1, 0.0, 1, 1)\n",
    "\n",
    "sample = er.get_batch()\n",
    "\n",
    "sample"
   ]
  }
 ],
 "metadata": {
  "kernelspec": {
   "display_name": "Python 3",
   "language": "python",
   "name": "python3"
  },
  "language_info": {
   "codemirror_mode": {
    "name": "ipython",
    "version": 3
   },
   "file_extension": ".py",
   "mimetype": "text/x-python",
   "name": "python",
   "nbconvert_exporter": "python",
   "pygments_lexer": "ipython3",
   "version": "3.5.6"
  }
 },
 "nbformat": 4,
 "nbformat_minor": 2
}
