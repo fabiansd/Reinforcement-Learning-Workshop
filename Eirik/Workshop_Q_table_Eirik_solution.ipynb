{
 "cells": [
  {
   "cell_type": "markdown",
   "metadata": {},
   "source": [
    "# Q-learning using tables\n",
    "##### Authors: Eirik Fagtun Kjærnli and Fabian Dietrichson"
   ]
  },
  {
   "cell_type": "markdown",
   "metadata": {},
   "source": [
    "## Welcome \n",
    "This workshop is structured such that for each cell you will write your code own code, and the code will be asserted in the next cell. The code should be written between \"Write code below\" and \"Write code above\". If your code do not pass the assertion, you will have to rewrite your code.\n",
    "\n",
    "### Task:\n",
    "Click on the cell below, and run it to import the necessary libaries\n",
    "Hot key to run a cell: ctrl + enter"
   ]
  },
  {
   "cell_type": "code",
   "execution_count": 242,
   "metadata": {},
   "outputs": [],
   "source": [
    "def multiply_input_by_2(a_variabel):\n",
    "\n",
    "    \"Write code below\" \n",
    "    result = a_variabel * 2\n",
    "    \n",
    "    \"Write code above\" \n",
    "    \n",
    "    return result"
   ]
  },
  {
   "cell_type": "code",
   "execution_count": 243,
   "metadata": {},
   "outputs": [
    {
     "name": "stdout",
     "output_type": "stream",
     "text": [
      "Great, you correctly implemented the method!\n"
     ]
    }
   ],
   "source": [
    "assert(multiply_input_by_2(10) == 20), \"Your method did not multiple the input by 2\"\n",
    "print(\"Great, you correctly implemented the method!\")"
   ]
  },
  {
   "cell_type": "markdown",
   "metadata": {},
   "source": [
    "## Import of neccesary packages\n",
    "To implement the Q-learning and use it in a environment we just need two packages.\n",
    "\n",
    "_Numpy_\n",
    "- Numpy adds support for large, multi-dimensional arrays and matrices, along with a large collection of high-level mathematical functions to operate on these arrays. We do the workshop using native Python arrays, however using Numpy simplifies the process.\n",
    "\n",
    "_OpenAI Gym_\n",
    "- The Gym library is a collection of test problems — environments — that you can use to work out your reinforcement learning algorithms. This range from simple text problems, to complex physisical problems, to Atari video games, which have made it the prefeered framework to learn and test Reinforcement learning algorithms.\n",
    "\n",
    "\n",
    "### Task:\n",
    "Click on the cell below and run it, this import the necessary packages. "
   ]
  },
  {
   "cell_type": "code",
   "execution_count": 244,
   "metadata": {},
   "outputs": [],
   "source": [
    "import numpy as np\n",
    "import gym"
   ]
  },
  {
   "cell_type": "code",
   "execution_count": 245,
   "metadata": {},
   "outputs": [
    {
     "name": "stdout",
     "output_type": "stream",
     "text": [
      "Great, the packages were imported correctly!\n"
     ]
    }
   ],
   "source": [
    "try:\n",
    "    assert(gym)\n",
    "    print(\"Great, the packages were imported correctly!\")\n",
    "except:\n",
    "    print(\"You did not run the cell above, do this before you continue!\")"
   ]
  },
  {
   "cell_type": "markdown",
   "metadata": {},
   "source": [
    "## Introduce the game we are going to solve here\n",
    "\n",
    "Blabla this is how the game works\n",
    "\n",
    "### Task:\n",
    "Create the environment variabel containing all necessary methods to run the Taxi-v2 game. <br>\n",
    "_Tip: Just run the cell below_"
   ]
  },
  {
   "cell_type": "code",
   "execution_count": 246,
   "metadata": {},
   "outputs": [],
   "source": [
    "environment_id = \"Taxi-v2\"\n",
    "env = gym.make(environment_id)"
   ]
  },
  {
   "cell_type": "code",
   "execution_count": 247,
   "metadata": {},
   "outputs": [
    {
     "name": "stdout",
     "output_type": "stream",
     "text": [
      "You successfully created the environement Taxi-v2\n"
     ]
    }
   ],
   "source": [
    "# Do not edit #\n",
    "try:\n",
    "    assert(env)\n",
    "    print(\"You successfully created the environement {}\".format(env.spec.id))\n",
    "except:\n",
    "    print(\"You create the environment incorrectly!\")"
   ]
  },
  {
   "cell_type": "markdown",
   "metadata": {},
   "source": [
    "## Run support methods for workshop\n",
    "Before you can go on, the cell below must be run. These are methods used to verify your work, in additon to support function. \n",
    "\n",
    "### Task\n",
    "Do as you have done before, simply mark the cell below and press CTRL + Enter!"
   ]
  },
  {
   "cell_type": "code",
   "execution_count": 248,
   "metadata": {
    "scrolled": true
   },
   "outputs": [],
   "source": [
    "from IPython.display import clear_output\n",
    "import gym\n",
    "import time\n",
    "from copy import deepcopy\n",
    "import seaborn as sb\n",
    "import matplotlib.pyplot as plt\n",
    "\n",
    "class TestEnvironment():\n",
    "    \n",
    "    def __init__(self):\n",
    "        self.env = gym.make(environment_id)\n",
    "        self.env.reset()\n",
    "        \n",
    "    def play(self, action):\n",
    "        if not (0 <= int(action) <= 5):\n",
    "            print(\"Action value must either be 0,1,2,3,4 or 5\")\n",
    "            return\n",
    "\n",
    "        clear_output()\n",
    "        _, reward, done, _ = self.env.step(action)\n",
    "        self.env.render()\n",
    "        print(\"Reward: \", reward)\n",
    "        \n",
    "        if(done):\n",
    "            print(\"Game completed, resetting environment!\")\n",
    "            self.reset_env()\n",
    "        \n",
    "    def reset_env(self):\n",
    "        self.env.reset()\n",
    "        print(\"Environment has been reset\")\n",
    "        time.sleep(2)\n",
    "        clear_output()\n",
    "        \n",
    "\n",
    "test_env = TestEnvironment()\n",
    "\n",
    "class MockData():\n",
    "    def __init__(self):\n",
    "        self.env = gym.make(environment_id)\n",
    "        self.env.seed(10)\n",
    "        \n",
    "    def get_Q(self):\n",
    "        Q = np.zeros([self.env.observation_space.n, self.env.action_space.n])\n",
    "        Q[0:2,0] = 10\n",
    "        return Q\n",
    "    \n",
    "    def get_env(self):\n",
    "        return self.env\n",
    "\n",
    "mock = MockData()\n",
    "def visualize_q_table():\n",
    "    fig=plt.figure(figsize=(10, 10))\n",
    "    heat_map = sb.heatmap(Q_trained)\n",
    "    plt.show()\n",
    "\n",
    "def plot_visualization(data):\n",
    "    \n",
    "    reward_list = data[0]\n",
    "    iteration_list = data[1]\n",
    "    epsilon_list = data[2]\n",
    "    \n",
    "    episodes = range(len(reward_list))\n",
    "    \n",
    "    plt.figure(figsize=(10,10))\n",
    "    ax = plt.subplot(311)\n",
    "    ax.set_title(\"Reward\")\n",
    "    ax = plt.plot(episodes, reward_list)\n",
    "\n",
    "    ax = plt.subplot(312)\n",
    "    ax.set_title(\"Iterations per episode\")\n",
    "    ax.plot(episodes, iteration_list)\n",
    "    \n",
    "    ax = plt.subplot(313)\n",
    "    ax.set_title(\"Epsilon\")\n",
    "    ax.set_xlabel(\"Episodes\")\n",
    "    ax.plot(episodes, epsilon_list)\n",
    "    \n",
    "    plt.show()\n",
    "\n",
    "def reset_env_and_update_params(env):\n",
    "    done = False\n",
    "    state = env.reset()\n",
    "    iterations = 0\n",
    "    total_reward = 0\n",
    "    \n",
    "    return state, done, iterations, total_reward\n",
    "\n",
    "def render_performance(env, Q):\n",
    "    iterations = 0\n",
    "    total_reward = 0\n",
    "    t_sleep = 1.2\n",
    "    \n",
    "    state = env.reset()\n",
    "    env.render()\n",
    "    time.sleep(t_sleep)\n",
    "    clear_output()\n",
    "    done = False\n",
    "\n",
    "    while not done:\n",
    "        action = np.argmax(Q[state,:]) \n",
    "\n",
    "        new_state, reward, done, _ = env.step(action)\n",
    "        state =  new_state\n",
    "\n",
    "        env.render()\n",
    "        time.sleep(t_sleep)\n",
    "        clear_output()\n",
    "        \n",
    "        iterations += 1\n",
    "        total_reward += reward\n",
    "        \n",
    "        if (iterations >= 20): \n",
    "            done = True\n",
    "            print(\"Agent did not complete the episode within 20 iterations, train your agent better!\")\n",
    "    \n",
    "    print(\"Your agent completed the task using {} iterations, \\\n",
    "          and got a total reward of {}\".format(iterations, total_reward))"
   ]
  },
  {
   "cell_type": "code",
   "execution_count": 249,
   "metadata": {},
   "outputs": [
    {
     "name": "stdout",
     "output_type": "stream",
     "text": [
      "Great, the support methods were created!\n"
     ]
    }
   ],
   "source": [
    "# Do not edit #\n",
    "try:\n",
    "    assert(mock)\n",
    "    print(\"Great, the support methods were created!\")\n",
    "except:\n",
    "    print(\"You did not run the cell above, do this before you continue!\")"
   ]
  },
  {
   "cell_type": "markdown",
   "metadata": {},
   "source": [
    "## Experiment with environment\n",
    "Before we start creating the Q-learning agent, we will explore the environment we are going to use. This is done using a support method we have created for you.\n",
    "\n",
    "**How to play**\n",
    "1. Simply input an action where it is indicated in the cell below, and click CTRL + Enter. \n",
    "2. The game will reset when you have dropped of the passenger at the indicated location.\n",
    "3. If you would like to reset the environment, run the cell which indicates this below  \n",
    "\n",
    "*Tip*: The bold colored letter shows where the passenger should be picked up, and the normal colored letter shows drop of spot.\n",
    "\n",
    "**Possible actions**\n",
    "0. Move down\n",
    "1. Move up\n",
    "2. Move right\n",
    "3. Move left\n",
    "4. Pick up passenger\n",
    "5. Drop off passenger\n",
    "\n",
    "### Task:\n",
    "Play around with the environment to understand the rewards and how the game dynamics works. When you will confident, move on to the next cell."
   ]
  },
  {
   "cell_type": "code",
   "execution_count": 250,
   "metadata": {},
   "outputs": [],
   "source": [
    "# Run this to recent environment\n",
    "test_env.reset_env()"
   ]
  },
  {
   "cell_type": "code",
   "execution_count": 251,
   "metadata": {},
   "outputs": [
    {
     "name": "stdout",
     "output_type": "stream",
     "text": [
      "+---------+\n",
      "|R:\u001b[43m \u001b[0m| : :\u001b[34;1mG\u001b[0m|\n",
      "| : : : : |\n",
      "| : : : : |\n",
      "| | : | : |\n",
      "|\u001b[35mY\u001b[0m| : |B: |\n",
      "+---------+\n",
      "  (North)\n",
      "Reward:  -1\n"
     ]
    }
   ],
   "source": [
    "# Input your action below\n",
    "action = 1\n",
    "# Input your action above\n",
    "\n",
    "test_env.play(action)"
   ]
  },
  {
   "cell_type": "markdown",
   "metadata": {},
   "source": [
    "## Discussion point\n",
    "The game above is a simply environment, which is easy for humans to solve. However, if you were to use traditional programming, how would you solve it? \n",
    "\n",
    "### Task\n",
    "Use 5 minutes in the group to come up with a strategy, and create a quick draft!\n",
    "\n",
    "<img src=\"images/Discussion.jpg\" alt=\"drawing\" width=\"400\" height=\"200\"/>"
   ]
  },
  {
   "cell_type": "markdown",
   "metadata": {},
   "source": [
    "# Q-learning\n",
    "\n",
    "Q-learning is one the most iconic Reinforcement learning algorihms, and can be used to solve a great variaty of challenges.\n",
    "\n",
    "$\n",
    "\\begin{equation}\n",
    "Q(s_{t},a_{t})^{new} \\leftarrow Q(s_{t}, a_{t}) + \\alpha \\ \\big[r_{t} + \\gamma \\ \\underset{a}{max} \\  Q(s_{t+1},a) - Q(s_{t},a_{t})\\big]\n",
    "\\end{equation}\n",
    "$"
   ]
  },
  {
   "cell_type": "markdown",
   "metadata": {},
   "source": [
    "## Create a Q-table\n",
    " In its most simplistic form it uses a table to store its values. This is the \n",
    "\n",
    "Each row in the array is a state <br>\n",
    "Each column is an action\n",
    "\n",
    "The Q-table will be similar to the one below, although without the labels on the columns. \n",
    "\n",
    "<img src=\"images/Taxi_matrix_initial.png\" alt=\"drawing\" width=\"500\" height=\"500\"/>\n",
    "\n",
    "### Task:\n",
    "Create and return a Q-table, where each cell is initialized to zeros, with:\n",
    "- The number of columns equal to number of actions in the environment (Use env.action_space.n)\n",
    "- The number of rows equal to number of states in the environment (Use env.observation_space.n)"
   ]
  },
  {
   "cell_type": "code",
   "execution_count": 252,
   "metadata": {},
   "outputs": [],
   "source": [
    "def create_q_table(env):\n",
    "    \n",
    "    \"Write code below\" \n",
    "    action_size = env.action_space.n\n",
    "    observation_size = env.observation_space.n\n",
    "    \n",
    "    Q_table = np.zeros([env.observation_space.n, env.action_space.n])\n",
    "    \n",
    "    \"Write code above\" \n",
    "    \n",
    "    return Q_table"
   ]
  },
  {
   "cell_type": "code",
   "execution_count": 253,
   "metadata": {},
   "outputs": [
    {
     "name": "stdout",
     "output_type": "stream",
     "text": [
      "The Q-table was correctly built! It has 500 rows, each representing a unique state, and 6 columns, each representing an action for that state.\n"
     ]
    }
   ],
   "source": [
    "# Do not edit #\n",
    "assert(np.count_nonzero(mock.get_Q() == 0)), \"All values in Q-table should be zero\"\n",
    "assert(mock.get_Q().shape == (mock.get_env().observation_space.n, mock.get_env().action_space.n)), \\\n",
    "\"The dimensions are wrong\"\n",
    "print(\"The Q-table was correctly built! \" +\n",
    "      \"It has {} rows, each representing a unique state, and {} columns, each representing an action for that state.\"\\\n",
    "      .format(mock.get_env().observation_space.n, mock.get_env().action_space.n))"
   ]
  },
  {
   "cell_type": "markdown",
   "metadata": {},
   "source": [
    "## Select the best action\n",
    "This method will  picked pick out the best action given the state\n",
    "\n",
    "\n",
    "### Task\n",
    "Pick the action with the highest Q-value given state"
   ]
  },
  {
   "cell_type": "code",
   "execution_count": 254,
   "metadata": {},
   "outputs": [],
   "source": [
    "def get_best_action(Q, state):\n",
    "    \n",
    "    \"Write code below\" \n",
    "    best_action =  np.argmax(Q[state,:]) \n",
    "    \n",
    "    \"Write code above\"\n",
    "    \n",
    "    return best_action"
   ]
  },
  {
   "cell_type": "code",
   "execution_count": 255,
   "metadata": {},
   "outputs": [
    {
     "name": "stdout",
     "output_type": "stream",
     "text": [
      "The best action for the test state was chosen, excellent!\n"
     ]
    }
   ],
   "source": [
    "# Do not edit #\n",
    "assert(get_best_action(mock.get_Q(), 1) == 0), \"The method did not pick the action with the highest Q_value\"\n",
    "print(\"The best action for the test state was chosen, excellent!\")"
   ]
  },
  {
   "cell_type": "markdown",
   "metadata": {},
   "source": [
    "### Select an action\n",
    "The exploration vs. exploitation is a very effective method to ensure the agent explores a sufficent area of the state space, and avoid coverging to a local optima.\n",
    "\n",
    "#### Task:\n",
    "Compute the action to take in the current state, including exploration.  \n",
    "If the probability, e.g. epsilon, is higher than a random number, we should take a random action\n",
    "    otherwise - the best policy action (self.getPolicy).\n",
    "\n",
    "*Tip* \n",
    "- To pick a random action, use env.action_space.sample()\n",
    "- To generate a random number with uniform probability, use np.random.uniform()"
   ]
  },
  {
   "cell_type": "code",
   "execution_count": 256,
   "metadata": {},
   "outputs": [],
   "source": [
    "def select_action(Q, state, epsilon):\n",
    "    \n",
    "    \"Write code below\"\n",
    "    if epsilon > np.random.uniform():\n",
    "        action = env.action_space.sample()\n",
    "    else:\n",
    "        action = get_best_action(Q, state)\n",
    "    \n",
    "    \"Write code above\"    \n",
    "    \n",
    "    return action"
   ]
  },
  {
   "cell_type": "code",
   "execution_count": 257,
   "metadata": {
    "scrolled": true
   },
   "outputs": [
    {
     "name": "stdout",
     "output_type": "stream",
     "text": [
      "The correct actions were picked, great job!\n"
     ]
    }
   ],
   "source": [
    "# Do not edit #\n",
    "assert(select_action(mock.get_Q(), 1, 0) == 0), \\\n",
    "\"Method should always return the same value for this state, since epsilon is 0\"\n",
    "assert not (len(set([select_action(mock.get_Q(), 1, 1) for x in range(20)])) <= 2), \\\n",
    "\"Method should not return identical values when a random action, should be chosen\"\n",
    "print(\"The correct actions were picked, great job!\")"
   ]
  },
  {
   "cell_type": "markdown",
   "metadata": {},
   "source": [
    "## Gradually shift towards exploitation, and reduce exploration of state space\n",
    "To make sure we are gradually moving from exploring the environment by taking random actions, we need to reduce the possibility of choosing a random action. In other words, we need to reduce Epsilon. \n",
    "\n",
    "### Task:\n",
    "Create a method which reduces epsilon by a factor called epsilon decay"
   ]
  },
  {
   "cell_type": "code",
   "execution_count": 258,
   "metadata": {},
   "outputs": [],
   "source": [
    "def update_epsilon(epsilon):\n",
    "    epsilon_decay = 0.95\n",
    "    \n",
    "    \"Write code below\" \n",
    "    epsilon *= epsilon_decay\n",
    "    \"Write code above\"\n",
    "    \n",
    "    return epsilon"
   ]
  },
  {
   "cell_type": "code",
   "execution_count": 259,
   "metadata": {},
   "outputs": [
    {
     "name": "stdout",
     "output_type": "stream",
     "text": [
      "Epsilon was correctly updated!\n"
     ]
    }
   ],
   "source": [
    "# Do not edit #\n",
    "assert(update_epsilon(5) == 4.75), \"Given an input of 5, the output should have been 4.75\"\n",
    "print(\"Epsilon was correctly updated!\")"
   ]
  },
  {
   "cell_type": "markdown",
   "metadata": {},
   "source": [
    " ## Find the highest Q_value for a given state\n",
    "\n",
    "$\n",
    "\\begin{equation}\n",
    "Q(s_{t},a_{t})^{new} \\leftarrow Q(s_{t}, a_{t}) + \\alpha \\ \\big[r_{t} + \\gamma \\ {\\color{red}{\\underset{a}{max} \\  Q(s_{t+1},a)}} - Q(s_{t},a_{t})\\big]\n",
    "\\end{equation}\n",
    "$ \n",
    "\n",
    "### Task"
   ]
  },
  {
   "cell_type": "code",
   "execution_count": 260,
   "metadata": {},
   "outputs": [],
   "source": [
    "def find_highest_Q_value_in_state(Q, new_state):\n",
    "    \"Write code below\"\n",
    "    best_Q_value = np.max(Q[new_state,:])\n",
    "    \"Write code above\"\n",
    "    \n",
    "    return best_Q_value"
   ]
  },
  {
   "cell_type": "code",
   "execution_count": 261,
   "metadata": {},
   "outputs": [
    {
     "name": "stdout",
     "output_type": "stream",
     "text": [
      "Perfect, the method returned the highest Q-value for that state!\n"
     ]
    }
   ],
   "source": [
    "# Do not edit #\n",
    "assert(find_highest_Q_value_in_state(mock.get_Q(), 1) == 10), \\\n",
    "\"The method did not pick the action with the highest Q_value\"\n",
    "print(\"Perfect, the method returned the highest Q-value for that state!\")"
   ]
  },
  {
   "cell_type": "markdown",
   "metadata": {},
   "source": [
    "## Calculate error  in Q-value\n",
    "\n",
    "$\n",
    "\\begin{equation}\n",
    "Q(s_{t},a_{t})^{new} \\leftarrow Q(s_{t}, a_{t}) + \\alpha \\ \\big[{\\color{red}{r_{t} + \\gamma \\ \\underset{a}{max} \\  Q(s_{t+1},a) - Q(s_{t},a_{t})}}\\big]\n",
    "\\end{equation}\n",
    "$\n",
    "\n",
    "Need to explain the discount factor\n",
    "\n",
    "### Task:\n"
   ]
  },
  {
   "cell_type": "code",
   "execution_count": 262,
   "metadata": {},
   "outputs": [],
   "source": [
    "def calculate_error_in_Q_value(Q, state, action, reward, new_state):\n",
    "    \n",
    "    discount_factor = 0.95\n",
    "    \n",
    "    \"Write code below\"\n",
    "    highest_q_value_in_state = find_highest_Q_value_in_state(Q, new_state)\n",
    "    \n",
    "    error_in_Q_value = reward + discount_factor * highest_q_value_in_state - Q[state,action]\n",
    "    \n",
    "    \"Write code above\"\n",
    "    \n",
    "    return error_in_Q_value"
   ]
  },
  {
   "cell_type": "code",
   "execution_count": 263,
   "metadata": {},
   "outputs": [
    {
     "name": "stdout",
     "output_type": "stream",
     "text": [
      "The error in Q-value have been calculated correctly!\n"
     ]
    }
   ],
   "source": [
    "# Do not edit #\n",
    "assert(calculate_error_in_Q_value(mock.get_Q(), 0, 0, 10, 1) == 9.5), \\\n",
    "\"The method did not calculate the correct error value for the test sample\"\n",
    "print(\"The error in Q-value have been calculated correctly!\")"
   ]
  },
  {
   "cell_type": "markdown",
   "metadata": {},
   "source": [
    "## Update Q-table\n",
    "\n",
    "Finaly we can put it all together and end up with the final equation.\n",
    "\n",
    "$\n",
    "\\begin{equation}\n",
    "Q(s_{t},a_{t})^{new} \\leftarrow {\\color{red}{Q(s_{t}, a_{t}) + \\alpha \\ \\big[r_{t} + \\gamma \\ \\underset{a}{max} \\  Q(s_{t+1},a) - Q(s_{t},a_{t})\\big]}}\n",
    "\\end{equation}\n",
    "$\n",
    "\n",
    "### Task\n",
    "Create a method which either sets\n",
    " - The Q-value equal to the reward, if it was the final episode. (Done is true)\n",
    " - Else updates the Q by following the equation above"
   ]
  },
  {
   "cell_type": "code",
   "execution_count": 264,
   "metadata": {},
   "outputs": [],
   "source": [
    "def update_q_table(Q, state, action, done, reward, new_state):\n",
    "    \n",
    "    learning_rate = 0.8\n",
    "    \n",
    "    \"Write code below\"\n",
    "    if(done):\n",
    "        Q[state, action] = reward\n",
    "    else:\n",
    "        Q[state, action] = Q[state, action] + \\\n",
    "        learning_rate * calculate_error_in_Q_value(Q, state, action, reward, new_state)\n",
    "    \"Write code above\"\n",
    "    \n",
    "    return Q"
   ]
  },
  {
   "cell_type": "code",
   "execution_count": 265,
   "metadata": {},
   "outputs": [
    {
     "name": "stdout",
     "output_type": "stream",
     "text": [
      "Q-tabel have been correctly updated!\n"
     ]
    }
   ],
   "source": [
    "# Do not edit #\n",
    "assert(update_q_table(mock.get_Q(), 2, 1, 1, 10, 3)[2,1] == 10), \\\n",
    "\"The updated Q-value when simulation was done was incorrect\"\n",
    "assert(update_q_table(mock.get_Q(), 0, 0, 0, 10, 1)[0,0] == 17.6), \\\n",
    "\"The updated Q-value when the episode was not done, was incorrect\"\n",
    "print(\"Q-tabel have been correctly updated!\")"
   ]
  },
  {
   "cell_type": "markdown",
   "metadata": {},
   "source": [
    "## Take one step\n",
    "Take all we have learnt until this point\n",
    "\n",
    "### Task\n",
    "    Chose action\n",
    "    Make step\n",
    "    Return result\n",
    "    "
   ]
  },
  {
   "cell_type": "code",
   "execution_count": 266,
   "metadata": {},
   "outputs": [],
   "source": [
    "def step(Q, env, state, epsilon):\n",
    "    \n",
    "    \"Write code below\"\n",
    "    action = select_action(Q, state, epsilon)\n",
    "    new_state, reward, done, _ = env.step(action)\n",
    "    \n",
    "    \"Write code above\"\n",
    "    \n",
    "    return action, reward, done, new_state"
   ]
  },
  {
   "cell_type": "code",
   "execution_count": 267,
   "metadata": {},
   "outputs": [
    {
     "name": "stdout",
     "output_type": "stream",
     "text": [
      "Your step method seems to function properly, good job!\n"
     ]
    }
   ],
   "source": [
    "# Do not edit #\n",
    "mock_env1 = deepcopy(mock.get_env())\n",
    "mock_env1.reset()\n",
    "mock_env2 = deepcopy(mock_env1)\n",
    "\n",
    "new_state, _, _, _ = mock_env1.step(0)\n",
    "assert(step(mock.get_Q(), mock_env2, 0, 0) == (0, -1, False, new_state)), \\\n",
    "\"Your environment did not return the correct values\"\n",
    "print(\"Your step method seems to function properly, good job!\")"
   ]
  },
  {
   "cell_type": "markdown",
   "metadata": {},
   "source": [
    "## Create train method\n",
    "\n",
    "Explain what an episode and iteration is\n",
    "Explain code already writen\n",
    "\n",
    "### Task"
   ]
  },
  {
   "cell_type": "code",
   "execution_count": 268,
   "metadata": {},
   "outputs": [],
   "source": [
    "def train(env, num_episodes, epsilon = 1):\n",
    "    done = False\n",
    "    reward_list, iterations_list, epsilon_list = [], [], []\n",
    "    \n",
    "    \"Write code below\"\n",
    "    # Initialize Q-table\n",
    "    Q = create_q_table(env)\n",
    "    \"Write code above\"\n",
    "\n",
    "    for episode in range(num_episodes):\n",
    "\n",
    "        if (done and episode % 10 == 0): \n",
    "            print(\"Episode: {} | Iterations: {} | Total Reward: {}\".format(episode, iterations, total_reward))\n",
    "        \n",
    "        state, done, iterations, total_reward = reset_env_and_update_params(env)\n",
    "        \n",
    "        \"Write code below\"\n",
    "        # Update epsilon\n",
    "        epsilon = update_epsilon(epsilon)\n",
    "        \n",
    "        \"Write code above\"\n",
    "        \n",
    "        while not done:\n",
    "            \n",
    "            \"Write code below\"\n",
    "            \n",
    "            # Take step\n",
    "            action, reward, done, new_state = step(Q, env, state, epsilon)\n",
    "                        \n",
    "            # Update Q-table\n",
    "            Q = update_q_table(Q, state, action, done, reward, new_state)\n",
    "            \n",
    "            # Set the new state as the current state\n",
    "            state = new_state\n",
    "            \n",
    "            \"Write code above\"\n",
    "            \n",
    "            # Update episode information\n",
    "            iterations += 1\n",
    "            total_reward += reward\n",
    "            \n",
    "            # End episode if it has lasted for too many iterations\n",
    "            if (iterations >= 40): done = True\n",
    "\n",
    "        reward_list.append(total_reward)\n",
    "        iterations_list.append(iterations)\n",
    "        epsilon_list.append(epsilon)\n",
    "        \n",
    "    return Q, epsilon, (reward_list, iterations_list, epsilon_list)"
   ]
  },
  {
   "cell_type": "markdown",
   "metadata": {},
   "source": [
    "## Create play method\n",
    "\n",
    "\n",
    "### Task"
   ]
  },
  {
   "cell_type": "code",
   "execution_count": 269,
   "metadata": {},
   "outputs": [],
   "source": [
    "def play(env, Q):\n",
    "    \n",
    "    state, done, iterations, total_reward = reset_env_and_update_params(env)\n",
    "\n",
    "    while not done:\n",
    "\n",
    "        \"Write code below\"\n",
    "        # Take step\n",
    "        action, reward, done, new_state = step(Q, env, state, 0)\n",
    "\n",
    "        # Set the new state as the current state\n",
    "        state = new_state\n",
    "\n",
    "        \"Write code above\"\n",
    "\n",
    "        # Update episode information\n",
    "        iterations += 1\n",
    "        total_reward += reward\n",
    "\n",
    "        if (iterations >= 50): done = True\n",
    "    \n",
    "    print(\"Iterations: {} | Total Reward: {}\".format(iterations, total_reward))"
   ]
  },
  {
   "cell_type": "markdown",
   "metadata": {
    "collapsed": true
   },
   "source": [
    "## Time to put our methods to use!"
   ]
  },
  {
   "cell_type": "markdown",
   "metadata": {},
   "source": [
    "### Train agent"
   ]
  },
  {
   "cell_type": "code",
   "execution_count": 270,
   "metadata": {},
   "outputs": [
    {
     "name": "stdout",
     "output_type": "stream",
     "text": [
      "Episode: 10 | Iterations: 40 | Total Reward: -166\n",
      "Episode: 20 | Iterations: 40 | Total Reward: -121\n",
      "Episode: 30 | Iterations: 40 | Total Reward: -112\n",
      "Episode: 40 | Iterations: 40 | Total Reward: -103\n",
      "Episode: 50 | Iterations: 40 | Total Reward: -166\n",
      "Episode: 60 | Iterations: 40 | Total Reward: -139\n",
      "Episode: 70 | Iterations: 40 | Total Reward: -76\n",
      "Episode: 80 | Iterations: 40 | Total Reward: -58\n",
      "Episode: 90 | Iterations: 40 | Total Reward: -40\n",
      "Episode: 100 | Iterations: 40 | Total Reward: -40\n",
      "Episode: 110 | Iterations: 40 | Total Reward: -40\n",
      "Episode: 120 | Iterations: 40 | Total Reward: -40\n",
      "Episode: 130 | Iterations: 40 | Total Reward: -40\n",
      "Episode: 140 | Iterations: 40 | Total Reward: -130\n",
      "Episode: 150 | Iterations: 40 | Total Reward: -40\n",
      "Episode: 160 | Iterations: 28 | Total Reward: -34\n",
      "Episode: 170 | Iterations: 40 | Total Reward: -40\n",
      "Episode: 180 | Iterations: 40 | Total Reward: -85\n",
      "Episode: 190 | Iterations: 40 | Total Reward: -40\n",
      "Episode: 200 | Iterations: 40 | Total Reward: -58\n",
      "Episode: 210 | Iterations: 34 | Total Reward: -13\n",
      "Episode: 220 | Iterations: 40 | Total Reward: -40\n",
      "Episode: 230 | Iterations: 40 | Total Reward: -40\n",
      "Episode: 240 | Iterations: 40 | Total Reward: -40\n",
      "Episode: 250 | Iterations: 11 | Total Reward: 10\n",
      "Episode: 260 | Iterations: 40 | Total Reward: -40\n",
      "Episode: 270 | Iterations: 40 | Total Reward: -40\n",
      "Episode: 280 | Iterations: 40 | Total Reward: -40\n",
      "Episode: 290 | Iterations: 40 | Total Reward: -40\n",
      "Episode: 300 | Iterations: 40 | Total Reward: -40\n",
      "Episode: 310 | Iterations: 40 | Total Reward: -40\n",
      "Episode: 320 | Iterations: 40 | Total Reward: -40\n",
      "Episode: 330 | Iterations: 40 | Total Reward: -40\n",
      "Episode: 340 | Iterations: 18 | Total Reward: 3\n",
      "Episode: 350 | Iterations: 40 | Total Reward: -40\n",
      "Episode: 360 | Iterations: 32 | Total Reward: -11\n",
      "Episode: 370 | Iterations: 40 | Total Reward: -40\n",
      "Episode: 380 | Iterations: 28 | Total Reward: -7\n",
      "Episode: 390 | Iterations: 29 | Total Reward: -8\n",
      "Episode: 400 | Iterations: 40 | Total Reward: -40\n",
      "Episode: 410 | Iterations: 30 | Total Reward: -9\n",
      "Episode: 420 | Iterations: 18 | Total Reward: 3\n",
      "Episode: 430 | Iterations: 14 | Total Reward: 7\n",
      "Episode: 440 | Iterations: 40 | Total Reward: -40\n",
      "Episode: 450 | Iterations: 40 | Total Reward: -40\n",
      "Episode: 460 | Iterations: 12 | Total Reward: 9\n",
      "Episode: 470 | Iterations: 7 | Total Reward: 14\n",
      "Episode: 480 | Iterations: 19 | Total Reward: 2\n",
      "Episode: 490 | Iterations: 33 | Total Reward: -12\n",
      "Episode: 500 | Iterations: 8 | Total Reward: 13\n",
      "Episode: 510 | Iterations: 28 | Total Reward: -7\n",
      "Episode: 520 | Iterations: 27 | Total Reward: -6\n",
      "Episode: 530 | Iterations: 16 | Total Reward: 5\n",
      "Episode: 540 | Iterations: 8 | Total Reward: 13\n",
      "Episode: 550 | Iterations: 11 | Total Reward: 10\n",
      "Episode: 560 | Iterations: 15 | Total Reward: 6\n",
      "Episode: 570 | Iterations: 29 | Total Reward: -8\n",
      "Episode: 580 | Iterations: 17 | Total Reward: 4\n",
      "Episode: 590 | Iterations: 16 | Total Reward: -13\n",
      "Episode: 600 | Iterations: 21 | Total Reward: 0\n",
      "Episode: 610 | Iterations: 16 | Total Reward: 5\n",
      "Episode: 620 | Iterations: 28 | Total Reward: -61\n",
      "Episode: 630 | Iterations: 13 | Total Reward: 8\n",
      "Episode: 640 | Iterations: 14 | Total Reward: 7\n",
      "Episode: 650 | Iterations: 18 | Total Reward: -15\n",
      "Episode: 660 | Iterations: 22 | Total Reward: -1\n",
      "Episode: 670 | Iterations: 15 | Total Reward: 6\n",
      "Episode: 680 | Iterations: 40 | Total Reward: -130\n",
      "Episode: 690 | Iterations: 27 | Total Reward: -24\n",
      "Episode: 700 | Iterations: 20 | Total Reward: 1\n",
      "Episode: 710 | Iterations: 10 | Total Reward: 11\n",
      "Episode: 720 | Iterations: 9 | Total Reward: 12\n",
      "Episode: 730 | Iterations: 17 | Total Reward: 4\n",
      "Episode: 740 | Iterations: 8 | Total Reward: 13\n",
      "Episode: 750 | Iterations: 12 | Total Reward: 9\n",
      "Episode: 760 | Iterations: 18 | Total Reward: 3\n",
      "Episode: 770 | Iterations: 8 | Total Reward: 13\n",
      "Episode: 780 | Iterations: 15 | Total Reward: 6\n",
      "Episode: 790 | Iterations: 17 | Total Reward: 4\n",
      "Episode: 800 | Iterations: 6 | Total Reward: 15\n",
      "Episode: 810 | Iterations: 14 | Total Reward: 7\n",
      "Episode: 820 | Iterations: 11 | Total Reward: 10\n",
      "Episode: 830 | Iterations: 18 | Total Reward: 3\n",
      "Episode: 840 | Iterations: 14 | Total Reward: 7\n",
      "Episode: 850 | Iterations: 14 | Total Reward: 7\n",
      "Episode: 860 | Iterations: 14 | Total Reward: 7\n",
      "Episode: 870 | Iterations: 20 | Total Reward: 1\n",
      "Episode: 880 | Iterations: 15 | Total Reward: 6\n",
      "Episode: 890 | Iterations: 17 | Total Reward: 4\n",
      "Episode: 900 | Iterations: 14 | Total Reward: 7\n",
      "Episode: 910 | Iterations: 18 | Total Reward: 3\n",
      "Episode: 920 | Iterations: 8 | Total Reward: 13\n",
      "Episode: 930 | Iterations: 14 | Total Reward: 7\n",
      "Episode: 940 | Iterations: 12 | Total Reward: 9\n",
      "Episode: 950 | Iterations: 15 | Total Reward: 6\n",
      "Episode: 960 | Iterations: 18 | Total Reward: -15\n",
      "Episode: 970 | Iterations: 12 | Total Reward: 9\n",
      "Episode: 980 | Iterations: 12 | Total Reward: 9\n",
      "Episode: 990 | Iterations: 16 | Total Reward: 5\n"
     ]
    }
   ],
   "source": [
    "Q_trained, _, data = train(env, 1000)"
   ]
  },
  {
   "cell_type": "markdown",
   "metadata": {},
   "source": [
    "### Plot key variables "
   ]
  },
  {
   "cell_type": "code",
   "execution_count": 271,
   "metadata": {},
   "outputs": [
    {
     "data": {
      "image/png": "[encoded data removed]",
      "text/plain": [
       "<Figure size 720x720 with 3 Axes>"
      ]
     },
     "metadata": {
      "needs_background": "light"
     },
     "output_type": "display_data"
    }
   ],
   "source": [
    "plot_visualization(data)"
   ]
  },
  {
   "cell_type": "markdown",
   "metadata": {},
   "source": [
    "### Play a round"
   ]
  },
  {
   "cell_type": "code",
   "execution_count": 272,
   "metadata": {},
   "outputs": [
    {
     "name": "stdout",
     "output_type": "stream",
     "text": [
      "Iterations: 17 | Total Reward: 4\n"
     ]
    }
   ],
   "source": [
    "play(env, Q_trained)"
   ]
  },
  {
   "cell_type": "markdown",
   "metadata": {},
   "source": [
    "### Visualize an episode"
   ]
  },
  {
   "cell_type": "code",
   "execution_count": 273,
   "metadata": {},
   "outputs": [
    {
     "name": "stdout",
     "output_type": "stream",
     "text": [
      "Agent did not complete the episode within 20 iterations, train your agent better!\n",
      "Your agent completed the task using 20 iterations,           and got a total reward of -20\n"
     ]
    }
   ],
   "source": [
    "render_performance(env, Q_trained)"
   ]
  }
 ],
 "metadata": {
  "kernelspec": {
   "display_name": "Python 3",
   "language": "python",
   "name": "python3"
  },
  "language_info": {
   "codemirror_mode": {
    "name": "ipython",
    "version": 3
   },
   "file_extension": ".py",
   "mimetype": "text/x-python",
   "name": "python",
   "nbconvert_exporter": "python",
   "pygments_lexer": "ipython3",
   "version": "3.7.4"
  }
 },
 "nbformat": 4,
 "nbformat_minor": 2
}
