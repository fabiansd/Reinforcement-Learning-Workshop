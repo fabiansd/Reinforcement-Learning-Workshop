{
 "cells": [
  {
   "cell_type": "markdown",
   "metadata": {},
   "source": [
    "# Improvements necessary\n",
    "- Introduce global variables to avoid to much input parameters?"
   ]
  },
  {
   "cell_type": "markdown",
   "metadata": {},
   "source": [
    "## Question for students\n",
    "\n",
    "- "
   ]
  },
  {
   "cell_type": "markdown",
   "metadata": {},
   "source": [
    "## Questions for us\n",
    "- How much work is enough for students?\n",
    "- Which visualizations do we need?\n",
    "- How do we train parts of the network?\n",
    "- How to make sure progress is upheld?\n",
    "- How to make sure everybody manages to follow?\n",
    "\n",
    "\n",
    "WHICH ENVIRONMENT SHOULD WE USE?\n",
    "- taxi-v2 (https://medium.com/@anirbans17/reinforcement-learning-for-taxi-v2-edd7c5b76869)\n",
    "- "
   ]
  },
  {
   "cell_type": "markdown",
   "metadata": {},
   "source": [
    "## Overview"
   ]
  },
  {
   "cell_type": "markdown",
   "metadata": {},
   "source": [
    "INTRODUCTION"
   ]
  },
  {
   "cell_type": "markdown",
   "metadata": {},
   "source": [
    "WHAT IS REINFORCEMENT LEARNING"
   ]
  },
  {
   "cell_type": "markdown",
   "metadata": {},
   "source": [
    "Q-learning and introduction to the algorithm\n",
    "- Inspo: https://towardsdatascience.com/practical-reinforcement-learning-02-getting-started-with-q-learning-582f63e4acd9"
   ]
  },
  {
   "cell_type": "markdown",
   "metadata": {},
   "source": [
    "Introduction to game to solve with Q-table"
   ]
  },
  {
   "cell_type": "markdown",
   "metadata": {},
   "source": [
    "SIMPLE SIMULATION\n",
    "\n",
    "Methods\n",
    "1. Create q-table \n",
    "2. Calculate q-values\n",
    "3. Take Step (e.g. epsilon-greedy)\n",
    "4. Elgibility trace?\n"
   ]
  },
  {
   "cell_type": "markdown",
   "metadata": {},
   "source": [
    "# Simple world implementation"
   ]
  },
  {
   "cell_type": "code",
   "execution_count": null,
   "metadata": {},
   "outputs": [],
   "source": [
    "import numpy as np\n",
    "import random\n",
    "import gym\n",
    "\n",
    "\"\"\"\n",
    "Introduction to environment\n",
    "\"\"\"\n",
    "def create_q_table(env):\n",
    "    action_size = env.action_space.n\n",
    "    observation_size = env.observation_space.n\n",
    "    \n",
    "    return np.zeros([env.observation_space.n, env.action_space.n])\n",
    "\n",
    "\"\"\"\n",
    "Explaination of epsilon greedy and action selection\n",
    "\"\"\"\n",
    "    \n",
    "def select_action(state, epsilon):\n",
    "    \n",
    "    random_value = np.random.uniform()\n",
    "    if (epsilon > 0.01) and (epsilon > random_value):\n",
    "        action = env.action_space.sample()\n",
    "    else:\n",
    "        action =  np.argmax(Q[state,:])   \n",
    "    \n",
    "    return action\n",
    "        \n",
    "\"\"\"\n",
    "Short explaination of q-table algorithm\n",
    "\"\"\"\n",
    "def update_q_table(Q, action, state, done, reward, new_state):\n",
    "    \n",
    "    if(done):\n",
    "        # Since it is the final state\n",
    "        Q[state,action] = reward\n",
    "    else:\n",
    "        # Error in estimate is not a completly correct name due to the discount factor...\n",
    "        error_in_estimate = reward + discount_factor*np.max(Q[new_state,:]) - Q[state,action]\n",
    "        Q[state, action] = Q[state, action] + learning_rate*error_in_estimate\n",
    "    \n",
    "    return Q"
   ]
  },
  {
   "cell_type": "code",
   "execution_count": null,
   "metadata": {},
   "outputs": [],
   "source": [
    "# Methods we should create?\n",
    "\n",
    "def visualize_q_table():\n",
    "    # See if we find some good ways to visualize the q-table\n",
    "    yield\n",
    "\n",
    "def store_data_for_visualization():\n",
    "    # To plot reward development\n",
    "    # Number of iterations\n",
    "    yield\n",
    "\n",
    "def reset_env_and_update_params(env, epsilon):\n",
    "    epsilon_decay = 0.99;\n",
    "    epsilon *= epsilon_decay\n",
    "    \n",
    "    done = False\n",
    "    state = env.reset()\n",
    "    iterations = 0\n",
    "    total_reward = 0\n",
    "    \n",
    "    return state, done, iterations, total_reward, epsilon\n",
    "\n",
    "def render_performance(Q):\n",
    "    state = env.reset()\n",
    "    env.render()\n",
    "    done = False\n",
    "\n",
    "    while not done:\n",
    "        # Get action\n",
    "        action = np.argmax(Q[state,:]) \n",
    "\n",
    "        # Take action in environment\n",
    "        new_state, _, done, _ = env.step(action)\n",
    "\n",
    "        # Update current state\n",
    "        state =  new_state\n",
    "\n",
    "        # Render\n",
    "        env.render()"
   ]
  },
  {
   "cell_type": "markdown",
   "metadata": {},
   "source": [
    "# Test environment"
   ]
  },
  {
   "cell_type": "code",
   "execution_count": null,
   "metadata": {},
   "outputs": [],
   "source": [
    "# Simulation\n",
    "num_episodes = 1000\n",
    "max_iterations = 40\n",
    "environment = 'Taxi-v2'\n",
    "\n",
    "# Q-learning parameters\n",
    "discount_factor = 0.95\n",
    "learning_rate = 0.8\n",
    "epsilon = 1\n",
    "done = False\n",
    "\n",
    "# Initiallize environment and create Q-table\n",
    "env = gym.make(environment)\n",
    "Q = create_q_table(env)\n",
    "\n",
    "# Run simulation\n",
    "\n",
    "for episode in range(num_episodes):\n",
    "    \n",
    "    if (done and episode % 50 == 0): \n",
    "        print(\"Episode: {} | Iterations: {} | Total Reward: {}\".format(episode, iterations, total_reward))\n",
    "    state, done, iterations, total_reward, epsilon = reset_env_and_update_params(env, epsilon)\n",
    "        \n",
    "    while not done:\n",
    "        # Get action\n",
    "        action = select_action(state, epsilon)\n",
    "        \n",
    "        # Take action in environment\n",
    "        new_state, reward, done, _ = env.step(action)\n",
    "\n",
    "        # Update Q-table\n",
    "        Q = update_q_table(Q, action, state, done, reward, new_state)\n",
    "        \n",
    "        # Update current state\n",
    "        state = new_state\n",
    "        \n",
    "        # End check\n",
    "        iterations += 1\n",
    "        total_reward += reward\n",
    "        \n",
    "        if (iterations >= max_iterations): done = True"
   ]
  },
  {
   "cell_type": "code",
   "execution_count": null,
   "metadata": {},
   "outputs": [],
   "source": [
    "render_performance(Q)"
   ]
  }
 ],
 "metadata": {
  "kernelspec": {
   "display_name": "Python 3",
   "language": "python",
   "name": "python3"
  },
  "language_info": {
   "codemirror_mode": {
    "name": "ipython",
    "version": 3
   },
   "file_extension": ".py",
   "mimetype": "text/x-python",
   "name": "python",
   "nbconvert_exporter": "python",
   "pygments_lexer": "ipython3",
   "version": "3.5.6"
  }
 },
 "nbformat": 4,
 "nbformat_minor": 2
}
