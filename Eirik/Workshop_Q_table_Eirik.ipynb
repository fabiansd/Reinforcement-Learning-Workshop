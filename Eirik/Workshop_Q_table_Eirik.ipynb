{
 "cells": [
  {
   "cell_type": "markdown",
   "metadata": {},
   "source": [
    "## Question for students\n",
    "\n",
    "- "
   ]
  },
  {
   "cell_type": "markdown",
   "metadata": {},
   "source": [
    "## Questions for us\n",
    "- How much work is enough for students?\n",
    "- Which visualizations do we need?\n",
    "- How do we train parts of the network?\n",
    "- How to make sure progress is upheld?\n",
    "- How to make sure everybody manages to follow?"
   ]
  },
  {
   "cell_type": "markdown",
   "metadata": {},
   "source": [
    "## Overview"
   ]
  },
  {
   "cell_type": "markdown",
   "metadata": {},
   "source": [
    "INTRODUCTION"
   ]
  },
  {
   "cell_type": "markdown",
   "metadata": {},
   "source": [
    "WHAT IS REINFORCEMENT LEARNING"
   ]
  },
  {
   "cell_type": "markdown",
   "metadata": {},
   "source": [
    "Q-learning and introduction to the algorithm"
   ]
  },
  {
   "cell_type": "markdown",
   "metadata": {},
   "source": [
    "Introduction to game to solve with Q-table"
   ]
  },
  {
   "cell_type": "markdown",
   "metadata": {},
   "source": [
    "SIMPLE SIMULATION\n",
    "\n",
    "Methods\n",
    "1. Create q-table \n",
    "2. Calculate q-values\n",
    "3. Take Step (e.g. epsilon-greedy)\n",
    "3. Elgibility trace?\n",
    "\n",
    "Go step by step initally\n",
    "\n",
    "video at end"
   ]
  },
  {
   "cell_type": "markdown",
   "metadata": {},
   "source": [
    "# Simple world implementation"
   ]
  },
  {
   "cell_type": "code",
   "execution_count": 6,
   "metadata": {},
   "outputs": [],
   "source": [
    "import numpy as np\n",
    "import random\n",
    "import gym\n",
    "\n",
    "# Params\n",
    "discount_factor = 0.9\n",
    "learning_rate = 0.95\n",
    "epsilon = 0.8\n",
    "epsilon_decay = 0.9;\n",
    "\n",
    "\"\"\"\n",
    "Introduction to environment\n",
    "\"\"\"\n",
    "def create_q_table(env):\n",
    "    action_size = env.action_space.n\n",
    "    observation_size = env.observation_space.n\n",
    "    \n",
    "    return np.zeros([env.observation_space.n, env.action_space.n])\n",
    "\n",
    "def take_one_step(action):\n",
    "    yield\n",
    "\n",
    "\"\"\"\n",
    "Explaination of epsilon greedy and action selection\n",
    "\"\"\"\n",
    "    \n",
    "def select_action(Q, state, env):\n",
    "    \n",
    "    random_value = np.random.uniform()\n",
    "    if (random_value > 0.1):\n",
    "        action = env.action_space.sample()\n",
    "    else:\n",
    "        action =  np.max(Q[state,:])\n",
    "\n",
    "    epsilon = epsilon * epsilon_decay    \n",
    "        \n",
    "    return action\n",
    "        \n",
    "\"\"\"\n",
    "Short explaination of q-table algorithm\n",
    "\"\"\"\n",
    "def update_q_table(action, state, done, reward, new_state):\n",
    "    \n",
    "    if(done):\n",
    "        Q[state,action] = reward\n",
    "    else:\n",
    "        error_in_estimate = reward + discount_factor*np.max(Q[new_state,:]) - Q[state,action]\n",
    "        Q[state, action] = Q[state, action] + learning_rate*error_in_estimate\n",
    "    "
   ]
  },
  {
   "cell_type": "code",
   "execution_count": null,
   "metadata": {},
   "outputs": [],
   "source": [
    "# Methods we should create?\n",
    "\n",
    "def visualize_q_table():\n",
    "    yield\n"
   ]
  },
  {
   "cell_type": "markdown",
   "metadata": {},
   "source": [
    "# Test environment"
   ]
  },
  {
   "cell_type": "code",
   "execution_count": null,
   "metadata": {},
   "outputs": [],
   "source": [
    "env = gym.make('FrozenLake-v0')\n",
    "Q = create_q_table(env)\n",
    "Q[4][2] = 10 \n",
    "\n",
    "#select_action(Q, 2, env)\n"
   ]
  },
  {
   "cell_type": "markdown",
   "metadata": {},
   "source": [
    "# Tricky part"
   ]
  },
  {
   "cell_type": "markdown",
   "metadata": {},
   "source": [
    "Introduction to neural networks\n",
    "\n",
    "Introduction to Deep Q-learning (DQN)\n",
    "\n",
    "Introduction to game we are going to play, e.g. visit website\n",
    "\n",
    "Complex simulation\n",
    "\n",
    "Keras etc."
   ]
  }
 ],
 "metadata": {
  "kernelspec": {
   "display_name": "Python 3",
   "language": "python",
   "name": "python3"
  },
  "language_info": {
   "codemirror_mode": {
    "name": "ipython",
    "version": 3
   },
   "file_extension": ".py",
   "mimetype": "text/x-python",
   "name": "python",
   "nbconvert_exporter": "python",
   "pygments_lexer": "ipython3",
   "version": "3.5.6"
  }
 },
 "nbformat": 4,
 "nbformat_minor": 2
}
