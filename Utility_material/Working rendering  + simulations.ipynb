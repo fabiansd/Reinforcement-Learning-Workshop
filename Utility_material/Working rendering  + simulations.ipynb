{
 "cells": [
  {
   "cell_type": "code",
   "execution_count": null,
   "metadata": {},
   "outputs": [],
   "source": [
    "from IPython.display import HTML\n",
    "import gym\n",
    "import os\n",
    "\n",
    "if type(os.environ.get(\"DISPLAY\")) is not str or len(os.environ.get(\"DISPLAY\")) == 0:\n",
    "    !bash xvfb start\n",
    "    %env DISPLAY = : 1"
   ]
  },
  {
   "cell_type": "code",
   "execution_count": null,
   "metadata": {},
   "outputs": [],
   "source": [
    "env_atari = gym.make('Breakout-v0')"
   ]
  },
  {
   "cell_type": "code",
   "execution_count": null,
   "metadata": {},
   "outputs": [],
   "source": [
    "env_atari_monitor = gym.wrappers.Monitor(env_atari, directory=\"videos_atari\", force=True)\n",
    "\n",
    "#Why is three simulations needed for saving?!\n",
    "for _ in range(3):\n",
    "    done = False\n",
    "    env_atari_monitor.reset()\n",
    "    while not done:\n",
    "        _, _, done, _ = env_atari_monitor.step(env_atari.action_space.sample())\n",
    "\n",
    "env_atari_monitor.close()\n",
    "env_atari.close()"
   ]
  },
  {
   "cell_type": "code",
   "execution_count": null,
   "metadata": {},
   "outputs": [],
   "source": [
    "video_names = list(filter(lambda s: s.endswith(\n",
    "    \".mp4\"), os.listdir(\"./videos_atari/\")))\n",
    "\n",
    "HTML(\"\"\"\n",
    "<video width=\"640\" height=\"480\" controls>\n",
    "  <source src=\"{}\" type=\"video/mp4\">\n",
    "</video>\n",
    "\"\"\".format(\"./videos_atari/\"+video_names[-1]))"
   ]
  },
  {
   "cell_type": "code",
   "execution_count": null,
   "metadata": {},
   "outputs": [],
   "source": [
    "env_classic_control = gym.make('CartPole-v0')"
   ]
  },
  {
   "cell_type": "code",
   "execution_count": null,
   "metadata": {},
   "outputs": [],
   "source": [
    "env_classic_control_monitor = gym.wrappers.Monitor(env_classic_control, directory=\"videos_classic_control\", force=True)\n",
    "\n",
    "#Why is three simulations needed for saving?!\n",
    "for _ in range(3):\n",
    "    done = False\n",
    "    env_classic_control_monitor.reset()\n",
    "    while not done:\n",
    "        _, _, done, _ = env_classic_control_monitor.step(env_classic_control.action_space.sample())\n",
    "\n",
    "env_classic_control_monitor.close()\n",
    "env_classic_control.close()"
   ]
  },
  {
   "cell_type": "code",
   "execution_count": null,
   "metadata": {},
   "outputs": [],
   "source": [
    "#video_names = list(filter(lambda s: s.endswith(\n",
    "#    \".mp4\"), os.listdir(\"./videos_classic_control/\")))\n",
    "\n",
    "HTML(\"\"\"\n",
    "<video width=\"640\" height=\"480\" controls>\n",
    "  <source src=\"{}\" type=\"video/mp4\">\n",
    "</video>\n",
    "\"\"\".format(\"./videos_classic_control/\"+list(filter(lambda s: s.endswith(\n",
    "    \".mp4\"), os.listdir(\"./videos_classic_control/\")))[-1]))"
   ]
  },
  {
   "cell_type": "code",
   "execution_count": null,
   "metadata": {},
   "outputs": [],
   "source": []
  },
  {
   "cell_type": "code",
   "execution_count": null,
   "metadata": {},
   "outputs": [],
   "source": []
  },
  {
   "cell_type": "markdown",
   "metadata": {},
   "source": [
    "## Trying to create human playable env"
   ]
  },
  {
   "cell_type": "code",
   "execution_count": null,
   "metadata": {},
   "outputs": [],
   "source": [
    "!pip install pygame"
   ]
  },
  {
   "cell_type": "code",
   "execution_count": null,
   "metadata": {},
   "outputs": [],
   "source": [
    "!pip install PyGObject"
   ]
  },
  {
   "cell_type": "code",
   "execution_count": null,
   "metadata": {},
   "outputs": [],
   "source": [
    "import gym\n",
    "from IPython import display\n",
    "import matplotlib.pyplot as plt\n",
    "%matplotlib inline\n",
    "\n",
    "env = gym.make('Breakout-v0')\n",
    "env.reset()\n",
    "for _ in range(100):\n",
    "    plt.imshow(env.render(mode='rgb_array'))\n",
    "    display.display(plt.gcf())\n",
    "    display.clear_output(wait=True)\n",
    "    action = env.action_space.sample()\n",
    "    env.step(action)"
   ]
  },
  {
   "cell_type": "code",
   "execution_count": null,
   "metadata": {},
   "outputs": [],
   "source": [
    "from gym.utils import play\n",
    "play.play(gym.make('Breakout-v0'), zoom=3)"
   ]
  },
  {
   "cell_type": "code",
   "execution_count": null,
   "metadata": {},
   "outputs": [],
   "source": [
    "\"\"\"How to use pygame with no windowing system, like on headless servers.\n",
    "\n",
    "Thumbnail generation with scaling is an example of what you can do with pygame.\n",
    "NOTE: the pygame scale function uses mmx if available, and can be run \n",
    "  in multiple threads.\n",
    "\n",
    "\"\"\"\n",
    "useage = \"\"\"-scale inputimage outputimage new_width new_height\n",
    "eg.  -scale in.png out.png 50 50\n",
    "\n",
    "\"\"\"\n",
    "\n",
    "import os, sys\n",
    "\n",
    "# set SDL to use the dummy NULL video driver, \n",
    "#   so it doesn't need a windowing system.\n",
    "os.environ[\"SDL_VIDEODRIVER\"] = \"dummy\"\n",
    "\n",
    "\n",
    "import pygame.transform\n",
    "\n",
    "\n",
    "if 1:\n",
    "    #some platforms might need to init the display for some parts of pygame.\n",
    "    import pygame.display\n",
    "    pygame.display.init()\n",
    "    screen = pygame.display.set_mode((1,1))\n",
    "\n",
    "\n",
    "\n",
    "def scaleit(fin, fout, w, h):\n",
    "    i = pygame.image.load(fin)\n",
    "\n",
    "    if hasattr(pygame.transform, \"smoothscale\"):\n",
    "        scaled_image = pygame.transform.smoothscale(i, (w,h))\n",
    "    else:\n",
    "        scaled_image = pygame.transform.scale(i, (w,h))\n",
    "    pygame.image.save(scaled_image, fout)\n",
    "\n",
    "\n",
    "if __name__ == \"__main__\":\n",
    "    if \"-scale\" in sys.argv:\n",
    "        fin, fout, w, h = sys.argv[2:]\n",
    "        w, h = map(int, [w,h])\n",
    "        scaleit(fin, fout, w,h)\n",
    "    else:\n",
    "        print(useage)"
   ]
  }
 ],
 "metadata": {
  "kernelspec": {
   "display_name": "Python 3",
   "language": "python",
   "name": "python3"
  },
  "language_info": {
   "codemirror_mode": {
    "name": "ipython",
    "version": 3
   },
   "file_extension": ".py",
   "mimetype": "text/x-python",
   "name": "python",
   "nbconvert_exporter": "python",
   "pygments_lexer": "ipython3",
   "version": "3.7.4"
  }
 },
 "nbformat": 4,
 "nbformat_minor": 2
}
